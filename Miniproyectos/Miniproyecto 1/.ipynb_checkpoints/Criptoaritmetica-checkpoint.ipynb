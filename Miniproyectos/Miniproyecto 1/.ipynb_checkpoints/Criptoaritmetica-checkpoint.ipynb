{
 "cells": [
  {
   "cell_type": "markdown",
   "metadata": {
    "tags": []
   },
   "source": [
    "<table>\n",
    "    <tr>\n",
    "        <td><img src=\"./imagenes/Macc.png\" width=\"400\"/></td>\n",
    "        <td>&nbsp;</td>\n",
    "        <td>\n",
    "            <h1 style=\"color:blue;text-align:left\">Inteligencia Artificial</h1></td>\n",
    "        <td>\n",
    "            <table><tr>\n",
    "            <tp><p style=\"font-size:150%;text-align:center\">Miniproyecto # 1 - Criptoaritmética</p></tp>\n",
    "            <tp><p style=\"font-size:150%;text-align:center\">Jessenia Piza Londoño & Laura Alejandra Salazar Pérez </p></tp>\n",
    "            </tr></table>\n",
    "        </td>\n",
    "    </tr>\n",
    "</table>\n"
   ]
  },
  {
   "cell_type": "code",
   "execution_count": 1,
   "metadata": {},
   "outputs": [],
   "source": [
    "from busqueda import *\n",
    "from ambientes import *"
   ]
  },
  {
   "cell_type": "code",
   "execution_count": 2,
   "metadata": {},
   "outputs": [],
   "source": [
    "prob = CriptoAritmetica(['son', 'one', 'new'])"
   ]
  },
  {
   "cell_type": "code",
   "execution_count": 3,
   "metadata": {
    "scrolled": true
   },
   "outputs": [
    {
     "data": {
      "text/plain": [
       "<AxesSubplot:>"
      ]
     },
     "execution_count": 3,
     "metadata": {},
     "output_type": "execute_result"
    },
    {
     "data": {
      "image/png": "[encoded data removed]",
      "text/plain": [
       "<Figure size 360x144 with 1 Axes>"
      ]
     },
     "metadata": {
      "needs_background": "light"
     },
     "output_type": "display_data"
    }
   ],
   "source": [
    "s = prob.estado_inicial\n",
    "prob.pintar_estado(s)"
   ]
  },
  {
   "cell_type": "code",
   "execution_count": 4,
   "metadata": {},
   "outputs": [
    {
     "name": "stdout",
     "output_type": "stream",
     "text": [
      "Acciones aplicables: [('n', 1), ('n', 2), ('n', 3), ('n', 4), ('n', 5), ('n', 6), ('n', 7), ('n', 8), ('n', 9), ('o', 1), ('o', 2), ('o', 3), ('o', 4), ('o', 5), ('o', 6), ('o', 7), ('o', 8), ('o', 9), ('w', 0), ('w', 1), ('w', 2), ('w', 3), ('w', 4), ('w', 5), ('w', 6), ('w', 7), ('w', 8), ('w', 9), ('s', 1), ('s', 2), ('s', 3), ('s', 4), ('s', 5), ('s', 6), ('s', 7), ('s', 8), ('s', 9), ('e', 0), ('e', 1), ('e', 2), ('e', 3), ('e', 4), ('e', 5), ('e', 6), ('e', 7), ('e', 8), ('e', 9)]\n"
     ]
    }
   ],
   "source": [
    "print(\"Acciones aplicables:\", prob.acciones_aplicables(s))"
   ]
  },
  {
   "cell_type": "code",
   "execution_count": 5,
   "metadata": {
    "scrolled": true
   },
   "outputs": [
    {
     "name": "stdout",
     "output_type": "stream",
     "text": [
      "La solución encontrada es:  [('n', 8), ('s', 4), ('w', 9), ('e', 1), ('o', 3)]\n",
      "El costo de la solución es:  0\n",
      "Wall time: 341 ms\n"
     ]
    }
   ],
   "source": [
    "%%time\n",
    "l = best_first_search(prob)\n",
    "if l is not None:\n",
    "    camino3 = solucion(l)\n",
    "    print(\"La solución encontrada es: \", camino3)\n",
    "    print(\"El costo de la solución es: \", l.costo_camino)\n",
    "else:\n",
    "    print(\"No hay solución!\")"
   ]
  },
  {
   "cell_type": "code",
   "execution_count": 6,
   "metadata": {
    "scrolled": true
   },
   "outputs": [
    {
     "name": "stdout",
     "output_type": "stream",
     "text": [
      "La solución encontrada es:  [('o', 1), ('e', 4), ('w', 7), ('s', 2), ('n', 3)]\n",
      "El costo de la solución es:  0\n",
      "Wall time: 3min 33s\n"
     ]
    }
   ],
   "source": [
    "%%time\n",
    "l = breadth_first_search(prob)\n",
    "if l is not None:\n",
    "    camino = solucion(l)\n",
    "    print(\"La solución encontrada es: \", camino)\n",
    "    print(\"El costo de la solución es: \", l.costo_camino)\n",
    "else:\n",
    "    print(\"No hay solución!\")"
   ]
  },
  {
   "cell_type": "code",
   "execution_count": 7,
   "metadata": {},
   "outputs": [
    {
     "name": "stdout",
     "output_type": "stream",
     "text": [
      "La solución encontrada es:  [('n', 8), ('s', 4), ('w', 9), ('e', 1), ('o', 3)]\n",
      "El costo de la solución es:  0\n",
      "Wall time: 962 ms\n"
     ]
    }
   ],
   "source": [
    "%%time\n",
    "l1 = depth_first_search(prob)\n",
    "if l1 is not None:\n",
    "    camino1 = solucion(l1)\n",
    "    print(\"La solución encontrada es: \", camino1)\n",
    "    print(\"El costo de la solución es: \", l1.costo_camino)\n",
    "else:\n",
    "    print(\"No hay solución!\")"
   ]
  },
  {
   "cell_type": "code",
   "execution_count": 8,
   "metadata": {},
   "outputs": [
    {
     "name": "stdout",
     "output_type": "stream",
     "text": [
      "Buscando la profundidad máxima  0\n",
      "Buscando la profundidad máxima  1\n",
      "Buscando la profundidad máxima  2\n",
      "Buscando la profundidad máxima  3\n",
      "Buscando la profundidad máxima  4\n",
      "Buscando la profundidad máxima  5\n",
      "La solución encontrada es:  [('n', 8), ('s', 4), ('w', 9), ('e', 1), ('o', 3)]\n",
      "El costo de la solución es:  0\n",
      "Wall time: 8.46 s\n"
     ]
    }
   ],
   "source": [
    "%%time\n",
    "l2 = iterative_deepening_search(prob, 100)\n",
    "if l2 is not None:\n",
    "    camino2 = solucion(l2)\n",
    "    print(\"La solución encontrada es: \", camino2)\n",
    "    print(\"El costo de la solución es: \", l2.costo_camino)\n",
    "else:\n",
    "    print(\"No hay solución!\")"
   ]
  },
  {
   "cell_type": "code",
   "execution_count": 9,
   "metadata": {},
   "outputs": [
    {
     "data": {
      "text/plain": [
       "{'o': 1, 'e': 4, 'w': 7, 's': 2, 'n': 3}"
      ]
     },
     "execution_count": 9,
     "metadata": {},
     "output_type": "execute_result"
    }
   ],
   "source": [
    "prob.sol_algoritmo()"
   ]
  }
 ],
 "metadata": {
  "kernelspec": {
   "display_name": "Python 3",
   "language": "python",
   "name": "python3"
  },
  "language_info": {
   "codemirror_mode": {
    "name": "ipython",
    "version": 3
   },
   "file_extension": ".py",
   "mimetype": "text/x-python",
   "name": "python",
   "nbconvert_exporter": "python",
   "pygments_lexer": "ipython3",
   "version": "3.7.9"
  }
 },
 "nbformat": 4,
 "nbformat_minor": 4
}
