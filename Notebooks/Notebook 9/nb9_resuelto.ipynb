{
 "cells": [
  {
   "cell_type": "markdown",
   "metadata": {
    "colab_type": "text",
    "id": "TpmFfXsQ0dYI"
   },
   "source": [
    "<table>\n",
    "    <tr>\n",
    "        <td><img src=\"./imagenes/Macc.png\" width=\"400\"/></td>\n",
    "        <td>&nbsp;</td>\n",
    "        <td>\n",
    "            <h1 style=\"color:blue;text-align:left\">Inteligencia Artificial</h1></td>\n",
    "        <td>\n",
    "            <table><tr>\n",
    "            <tp><p style=\"font-size:150%;text-align:center\">Notebook 8</p></tp>\n",
    "            <tp><p style=\"font-size:150%;text-align:center\">El mundo del Wumpus (2/2)</p></tp>\n",
    "            </tr></table>\n",
    "        </td>\n",
    "    </tr>\n",
    "</table>\n",
    "\n",
    "---\n",
    "\n"
   ]
  },
  {
   "cell_type": "markdown",
   "metadata": {},
   "source": [
    "Manuela Acosta Fajardo"
   ]
  },
  {
   "cell_type": "markdown",
   "metadata": {
    "colab_type": "text",
    "id": "V3SkDSWJ0dYJ"
   },
   "source": [
    "# Objetivo\n",
    "\n",
    "En el notebook pasado nos familiarizamos con el desafío de entrar en la caverna del Wumpus a buscar el oro sin morir en el intento. Vimos un agente de reflejo simple, el cual tiene varias virtudes, pero todavía mucho por mejorar. En especial, vimos que es esencial razonar sobre el Mundo del Wumpus. Nuestra herramienta seleccionada para ello fue la lógica proposicional. Mediante ella representamos varios aspectos del mundo y creamos un método para el agente, el cual llamamos `adyacentes_seguras`. En este notebook vamos a utilizar dicho método para transitar la caverna de manera exhaustiva. También incluiremos la idea de usar proposiciones, llamadas *fluentes*, para representar aspectos cambiantes del mundo. Dotado de esta potente herramienta, el agente podrá salir airoso de muchísimos más escenarios posibles en el desafío del Mundo del Wumpus.\n",
    "\n",
    "Adaptado de Russell & Norvig (2016), cap. 7."
   ]
  },
  {
   "cell_type": "markdown",
   "metadata": {
    "colab_type": "text",
    "id": "5HnQ_gA70dYL"
   },
   "source": [
    "# Secciones\n",
    "\n",
    "En este notebook desarrollaremos los siguientes aspectos del problema:\n",
    "\n",
    "* [Transitando por las casillas seguras.](#seguras)\n",
    "* [Agente híbrido v. 1.0.](#hybrid)\n",
    "* [Representando aspectos cambiantes del mundo (fluentes).](#fluentes)\n"
   ]
  },
  {
   "cell_type": "markdown",
   "metadata": {},
   "source": [
    "# Transitando por las casillas seguras <a class=\"anchor\" id=\"seguras\"></a>\n",
    "\n",
    "Recordemos que estamos usando un descriptor para representar situaciones mediante átomos de la lógica proposicional. Repetimos aquí la codificación que usamos en el notebook pasado por conveniencia:\n",
    "\n",
    "| Información | Número de codificación |\n",
    "| :---: | :---: |\n",
    "| Sabe que casilla es segura     | 0    |\n",
    "| Siente brisa en casilla     | 1 |\n",
    "| Sabe que hay pozo en casilla  | 2 |\n",
    "| Siente hedor en casilla     | 3 |\n",
    "| Sabe que el Wumpus está en casilla     | 4 |\n",
    "\n",
    "Ahora vamos a cargar las librerías requeridas y a crear el descriptor:"
   ]
  },
  {
   "cell_type": "code",
   "execution_count": 1,
   "metadata": {},
   "outputs": [],
   "source": [
    "from logica import *\n",
    "from wumpus import *"
   ]
  },
  {
   "cell_type": "code",
   "execution_count": 2,
   "metadata": {},
   "outputs": [],
   "source": [
    "columnas = ['0', '1', '2', '3']\n",
    "filas = ['0', '1', '2', '3']\n",
    "informacion = ['es segura', 'brisa en', 'hay un pozo en',\n",
    "              'hedor en', 'hay Wumpus en']\n",
    "Ninfo = len(informacion)\n",
    "Nfilas = len(filas)\n",
    "Ncolumnas = len(columnas)\n",
    "IenCasilla = Descriptor([Ncolumnas, Nfilas, Ninfo])\n",
    "W = Wumpus(wumpus=(0,1), oro=(3,2), pozos=[(1,0)])\n",
    "agente = Agente(W, descriptor=IenCasilla)"
   ]
  },
  {
   "cell_type": "markdown",
   "metadata": {},
   "source": [
    "También debemos importar las fórmulas que representan la dinámica del mundo:"
   ]
  },
  {
   "cell_type": "code",
   "execution_count": 3,
   "metadata": {},
   "outputs": [],
   "source": [
    "formulas_brisa = agente.crear_formulas_brisa()\n",
    "formulas_hedor = agente.crear_formulas_hedor()\n",
    "formulas_segura = agente.crear_formulas_segura()\n",
    "formulas_un_wumpus = agente.crear_formulas_un_wumpus()\n",
    "formulas_hedor_wumpus = agente.crear_formulas_hedor_wumpus()"
   ]
  },
  {
   "cell_type": "markdown",
   "metadata": {},
   "source": [
    "## Agente basado en un modelo del mundo\n",
    "\n",
    "En el notebook pasado consideramos un agente reflejo simple. Ahora que podemos representar situaciones del Mundo del Wumpus podemos pasar a una arquitectura más compleja, que se llama *agente basado en un modelo*. (*model-based agent*). La siguiente imagen presenta un esquema de este tipo de agente:\n",
    "\n",
    "<img src=\"./imagenes/model-based1.png\" width=\"400\">\n",
    "\n",
    "Para implementar un programa de este tipo, vamos a hacer un par de mejoras sobre el agente de reflejo simple del notebook pasado. Estas son:\n",
    "\n",
    "* Usar los métodos `make_percept_sentence` y `TELL` para ir actualizando los datos en la base de conocimiento.\n",
    "* Usar el método `adyacentes_seguras`, el cual nos permite razonar sobre cuáles casillas adyacentes es seguro visitar.\n",
    "* Escoger aleatoriamente una de las casillas adyacentes que sean seguras y que no haya visitado.\n",
    "* Deambular por las casillas seguras si no tiene nada mejor que hacer, hasta volver a la salida (e irse con el rabo entre las piernas). \n",
    "\n",
    "El siguiente código implementa estas ideas:"
   ]
  },
  {
   "cell_type": "code",
   "execution_count": 4,
   "metadata": {},
   "outputs": [],
   "source": [
    "def programa_model_based(self):\n",
    "    \n",
    "    global casillas_visitadas\n",
    "    \n",
    "    # Marca la casilla actual como visitada\n",
    "    casilla_actual = self.mundo.heroe\n",
    "    if casilla_actual not in casillas_visitadas:\n",
    "        casillas_visitadas.append(casilla_actual)\n",
    "    \n",
    "    # Actualiza la base de conocimiento con la percepción actual\n",
    "    percept_sentence = self.make_percept_sentence()\n",
    "    self.base_conocimiento.TELL(percept_sentence)\n",
    "    \n",
    "    # Usa base de conocimiento para encontrar casillas seguras\n",
    "    casillas_seguras = self.adyacentes_seguras() \n",
    "\n",
    "    acciones = []\n",
    "    percepcion = self.percibir()\n",
    "    if 'brillo' in percepcion:\n",
    "        acciones.append('agarrar')\n",
    "    elif self.mundo.heroe == (0,0) and self.mundo.oro_tomado:\n",
    "        acciones.append('salir')\n",
    "    else:\n",
    "        opciones = [casilla for casilla in casillas_seguras if casilla not in casillas_visitadas]\n",
    "        if len(opciones) > 0:\n",
    "            casilla = choice(opciones)\n",
    "            camino = [casilla_actual, casilla]\n",
    "            acciones = acciones_camino(camino, self.mundo.direccion)\n",
    "        elif len(casillas_seguras) > 0:\n",
    "            casilla = choice(casillas_seguras)\n",
    "            camino = [casilla_actual, casilla]\n",
    "            acciones = acciones_camino(camino, self.mundo.direccion)\n",
    "        elif self.mundo.heroe == (0,0):\n",
    "            acciones.append('salir')\n",
    "        else:\n",
    "            print(\"¡Caso no contemplado!\")\n",
    "    return acciones\n",
    "\n",
    "setattr(Agente, \"programa\", programa_model_based)"
   ]
  },
  {
   "cell_type": "markdown",
   "metadata": {},
   "source": [
    "Veamos el funcionamiento del agente en un par de escenarios:"
   ]
  },
  {
   "cell_type": "code",
   "execution_count": 5,
   "metadata": {},
   "outputs": [
    {
     "data": {
      "image/png": "[encoded data removed]",
      "text/plain": [
       "<Figure size 576x576 with 1 Axes>"
      ]
     },
     "metadata": {
      "needs_background": "light"
     },
     "output_type": "display_data"
    }
   ],
   "source": [
    "from time import sleep\n",
    "from IPython.display import clear_output\n",
    "\n",
    "W = Wumpus(wumpus=(3,3), oro=(1,2), pozos=[(0,3), (2,2)])\n",
    "W.pintar_todo()\n",
    "formulas = formulas_brisa + formulas_hedor + formulas_segura + formulas_un_wumpus + formulas_hedor_wumpus\n",
    "agente = Agente(W, descriptor=IenCasilla, base_conocimiento=LPQuery(formulas))\n",
    "percept_sentence = agente.make_percept_sentence()\n",
    "agente.base_conocimiento.TELL(percept_sentence)\n",
    "casillas_visitadas = []\n",
    "max_turnos = 50\n",
    "acciones = []\n",
    "for t in range(max_turnos):\n",
    "    sleep(.25)\n",
    "    clear_output(wait=True)\n",
    "    if len(acciones) > 0:\n",
    "        accion = acciones.pop(0)\n",
    "    else:\n",
    "        acciones = agente.programa()\n",
    "        accion = acciones.pop(0)\n",
    "    W.transicion(accion)\n",
    "    if not W.juego_activo:\n",
    "        clear_output(wait=True)\n",
    "        print(W.mensaje)\n",
    "        break\n",
    "    W.pintar_todo()\n",
    "    plt.show()"
   ]
  },
  {
   "cell_type": "code",
   "execution_count": 6,
   "metadata": {},
   "outputs": [
    {
     "name": "stdout",
     "output_type": "stream",
     "text": [
      "¡Caso no contemplado!\n"
     ]
    },
    {
     "ename": "IndexError",
     "evalue": "pop from empty list",
     "output_type": "error",
     "traceback": [
      "\u001b[0;31m---------------------------------------------------------------------------\u001b[0m",
      "\u001b[0;31mIndexError\u001b[0m                                Traceback (most recent call last)",
      "\u001b[0;32m<ipython-input-6-676571464308>\u001b[0m in \u001b[0;36m<module>\u001b[0;34m\u001b[0m\n\u001b[1;32m     18\u001b[0m     \u001b[0;32melse\u001b[0m\u001b[0;34m:\u001b[0m\u001b[0;34m\u001b[0m\u001b[0;34m\u001b[0m\u001b[0m\n\u001b[1;32m     19\u001b[0m         \u001b[0macciones\u001b[0m \u001b[0;34m=\u001b[0m \u001b[0magente\u001b[0m\u001b[0;34m.\u001b[0m\u001b[0mprograma\u001b[0m\u001b[0;34m(\u001b[0m\u001b[0;34m)\u001b[0m\u001b[0;34m\u001b[0m\u001b[0;34m\u001b[0m\u001b[0m\n\u001b[0;32m---> 20\u001b[0;31m         \u001b[0maccion\u001b[0m \u001b[0;34m=\u001b[0m \u001b[0macciones\u001b[0m\u001b[0;34m.\u001b[0m\u001b[0mpop\u001b[0m\u001b[0;34m(\u001b[0m\u001b[0;36m0\u001b[0m\u001b[0;34m)\u001b[0m\u001b[0;34m\u001b[0m\u001b[0;34m\u001b[0m\u001b[0m\n\u001b[0m\u001b[1;32m     21\u001b[0m     \u001b[0mW\u001b[0m\u001b[0;34m.\u001b[0m\u001b[0mtransicion\u001b[0m\u001b[0;34m(\u001b[0m\u001b[0maccion\u001b[0m\u001b[0;34m)\u001b[0m\u001b[0;34m\u001b[0m\u001b[0;34m\u001b[0m\u001b[0m\n\u001b[1;32m     22\u001b[0m     \u001b[0;32mif\u001b[0m \u001b[0;32mnot\u001b[0m \u001b[0mW\u001b[0m\u001b[0;34m.\u001b[0m\u001b[0mjuego_activo\u001b[0m\u001b[0;34m:\u001b[0m\u001b[0;34m\u001b[0m\u001b[0;34m\u001b[0m\u001b[0m\n",
      "\u001b[0;31mIndexError\u001b[0m: pop from empty list"
     ]
    }
   ],
   "source": [
    "from time import sleep\n",
    "from IPython.display import clear_output\n",
    "\n",
    "W = Wumpus(wumpus=(0,2), oro=(2,3), pozos=[(2,0), (3,2)])\n",
    "W.pintar_todo()\n",
    "formulas = formulas_brisa + formulas_hedor + formulas_segura + formulas_un_wumpus + formulas_hedor_wumpus\n",
    "agente = Agente(W, descriptor=IenCasilla, base_conocimiento=LPQuery(formulas))\n",
    "percept_sentence = agente.make_percept_sentence()\n",
    "agente.base_conocimiento.TELL(percept_sentence)\n",
    "casillas_visitadas = []\n",
    "max_turnos = 2\n",
    "acciones = []\n",
    "for t in range(max_turnos):\n",
    "    sleep(.25)\n",
    "    clear_output(wait=True)\n",
    "    if len(acciones) > 0:\n",
    "        accion = acciones.pop(0)\n",
    "    else:\n",
    "        acciones = agente.programa()\n",
    "        accion = acciones.pop(0)\n",
    "    W.transicion(accion)\n",
    "    if not W.juego_activo:\n",
    "        clear_output(wait=True)\n",
    "        print(W.mensaje)\n",
    "        break\n",
    "    W.pintar_todo()\n",
    "    plt.show()"
   ]
  },
  {
   "cell_type": "markdown",
   "metadata": {},
   "source": [
    "**Ejercicio 1:**\n",
    "\n",
    "Haga una tabla con una columna para las fortalezas y otra para las falencias del agente.\n",
    "\n",
    "| Fortalezas | Falencias |\n",
    "| :---: | :---: |\n",
    "| Evita los pozos y el Wumpus | Una vez tomado el oro, no sale derecho a la casilla de salida |\n",
    "| Dado suficiente tiempo, explora todas las casillas seguras | El Wumpus le bloquea el camino |\n",
    "| Puede recuperar el oro y salir en más escenarios que el agente de reflejo simple | Hay situaciones sobre las cuales no puede razonar |"
   ]
  },
  {
   "cell_type": "markdown",
   "metadata": {},
   "source": [
    "---"
   ]
  },
  {
   "cell_type": "markdown",
   "metadata": {},
   "source": [
    "Es importante considerar el problema con el segundo escenario. El error ocurrió en alguna de dos posibles circunstancias, dependiendo de si el agente se movió arriba o a la derecha:\n",
    "\n",
    "<table>\n",
    "  <tr>\n",
    "    <td><img src=\"./imagenes/Problema-arriba.png\" width=\"400\"></td>\n",
    "    <td><img src=\"./imagenes/Problema-derecha.png\" width=\"400\"></td>\n",
    "  </tr>\n",
    "</table>\n",
    "\n",
    "No obstante, en ambos casos el problema es el mismo. Este radica en que el agente llegó a una casilla desde la cual no se puede inferir que alguna de sus casillas adyacentes sea segura. En efecto, preguntémosle al agente sobre qué casillas adyacentes considera seguras mediante el método `adyacentes_seguras`:"
   ]
  },
  {
   "cell_type": "code",
   "execution_count": null,
   "metadata": {},
   "outputs": [],
   "source": [
    "agente.adyacentes_seguras()"
   ]
  },
  {
   "cell_type": "markdown",
   "metadata": {},
   "source": [
    "Observe que nos falta la siguiente información. El agente comienza en la casilla inicial. En este escenario, en dicha casilla no había ni hedor ni brisa, por lo que el agente debería saber que dicha casilla es segura. Esto se puede generalizar aún mas, toda vez que **si el agente no ha muerto estando en una casilla, entonces dicha casilla es segura**. La casilla inicial es sólo un caso particular de esta idea.\n",
    "\n",
    "Vamos a incorporar este razonamiento en el método `make_percept_sentence`. Además de la información perceptual, incluiremos la información de que la casilla que estamos percibiendo no tiene un pozo ni al Wumpus."
   ]
  },
  {
   "cell_type": "markdown",
   "metadata": {},
   "source": [
    "**Ejercicio 2:**\n",
    "\n",
    "Modifique el método `make_percept_sentence` para incluir la información de que la casilla actual no contiene un pozo ni al Wumpus."
   ]
  },
  {
   "cell_type": "code",
   "execution_count": null,
   "metadata": {},
   "outputs": [],
   "source": [
    "def make_percept_sentence(self):\n",
    "    # Crea una conjuncion de literales para añadir a la base de datos\n",
    "    literales = ''\n",
    "    x, y = self.mundo.heroe\n",
    "    percepciones = self.percibir()\n",
    "    if 'brisa' in percepciones:\n",
    "        literales = self.cods.P([x, y, 1])\n",
    "    else:\n",
    "        literales = '-' + self.cods.P([x, y, 1])\n",
    "    if 'hedor' in percepciones:\n",
    "        literales += 'Y' + self.cods.P([x, y, 3])\n",
    "    else:\n",
    "        literales += 'Y-' + self.cods.P([x, y, 3])\n",
    "    literales += 'Y-' + self.cods.P([x, y, 2])\n",
    "    literales += 'Y-' + self.cods.P([x, y, 4])\n",
    "\n",
    "    return literales\n",
    "\n",
    "setattr(Agente, \"make_percept_sentence\", make_percept_sentence)"
   ]
  },
  {
   "cell_type": "markdown",
   "metadata": {},
   "source": [
    "Pruebe su implementación con la siguiente celda:"
   ]
  },
  {
   "cell_type": "code",
   "execution_count": null,
   "metadata": {},
   "outputs": [],
   "source": [
    "W = Wumpus(wumpus=(0,2), oro=(2,3), pozos=[(2,0), (3,2)])\n",
    "formulas = formulas_brisa + formulas_hedor + formulas_segura + formulas_un_wumpus + formulas_hedor_wumpus\n",
    "agente = Agente(W, descriptor=IenCasilla, base_conocimiento=LPQuery(formulas))\n",
    "agente.mundo.transicion('adelante')\n",
    "W.pintar_todo()\n",
    "info = agente.make_percept_sentence().split('Y')\n",
    "for a in info:\n",
    "    print(agente.cods.escribir(a))"
   ]
  },
  {
   "cell_type": "markdown",
   "metadata": {},
   "source": [
    "La respuesta debe ser:\n",
    "\n",
    "```\n",
    "El agente siente brisa en la casilla (1,0)\n",
    "El agente no siente hedor en la casilla (1,0)\n",
    "El agente sabe que no hay un pozo en la casilla (1,0)\n",
    "El agente sabe que no hay Wumpus en la casilla (1,0)\n",
    "```"
   ]
  },
  {
   "cell_type": "markdown",
   "metadata": {},
   "source": [
    "---"
   ]
  },
  {
   "cell_type": "markdown",
   "metadata": {},
   "source": [
    "Veamos el comportamiento del agente con la mejora que acabamos de incluir:"
   ]
  },
  {
   "cell_type": "code",
   "execution_count": null,
   "metadata": {},
   "outputs": [],
   "source": [
    "from time import sleep\n",
    "from IPython.display import clear_output\n",
    "\n",
    "W = Wumpus(wumpus=(0,2), oro=(2,3), pozos=[(2,0), (3,2)])\n",
    "W.pintar_todo()\n",
    "formulas = formulas_brisa + formulas_hedor + formulas_segura + formulas_un_wumpus + formulas_hedor_wumpus\n",
    "agente = Agente(W, descriptor=IenCasilla, base_conocimiento=LPQuery(formulas))\n",
    "percept_sentence = agente.make_percept_sentence()\n",
    "agente.base_conocimiento.TELL(percept_sentence)\n",
    "casillas_visitadas = []\n",
    "max_turnos = 50\n",
    "acciones = []\n",
    "for t in range(max_turnos):\n",
    "    sleep(.25)\n",
    "    clear_output(wait=True)\n",
    "    if len(acciones) > 0:\n",
    "        accion = acciones.pop(0)\n",
    "    else:\n",
    "        acciones = agente.programa()\n",
    "        accion = acciones.pop(0)\n",
    "    W.transicion(accion)\n",
    "    if not W.juego_activo:\n",
    "        clear_output(wait=True)\n",
    "        print(W.mensaje)\n",
    "        break\n",
    "    W.pintar_todo()\n",
    "    plt.show()"
   ]
  },
  {
   "cell_type": "markdown",
   "metadata": {},
   "source": [
    "El agente logra razonar que, a pesar del hedor en la casilla $(1,2)$, el Wumpus está en $(0,2)$. Esto se logra mediante las reglas discutidas en el ejercicio 9 del notebook anterior. En particular, se usa la regla:\n",
    "\n",
    "$Hedor(0,1)\\wedge\\neg Wumpus(0,0)\\wedge\\neg Wumpus(1,1)\\to Wumpus(0,2)$\n",
    "\n",
    "Al incluir las reglas que indican que sólo hay un Wumpus (ver ejercicio 8 del notebook anterior), el agente puede razonar que, a pesar del hedor en $(1,2)$, el Wumpus no está en las casillas $(1,3)$ o $(2,2)$. Finalmente, gracias a la ausencia de brisa en la casilla $(1,2)$, el agente razona que las casillas $(1,3)$ y $(2,2)$ son seguras. Esto le permite continuar su exploración por la caverna."
   ]
  },
  {
   "cell_type": "markdown",
   "metadata": {},
   "source": [
    "## Agente basado en objetivos \n",
    "\n",
    "En este punto ya hemos creado muchos de los aspectos más importantes del agente basado en conocimiento. No obstante, aún se requiere un aspecto muy importante de planeación de rutas. Poder diseñar estos planes es esencial para que el agente pueda devolverse a la casilla inicial y salir de la cueva. \n",
    "\n",
    "Al incluir la planeación de objetivos en la arquitectura del agente, estamos un paso más arriba en la jerarquía propuesta por Russell & Norvig. En efecto, estamos considerando una arquitectura de *agente basado en objetivos* (*goal-based agent*). La siguiente imagen presenta un esquema de este tipo de arquitectura:\n",
    "\n",
    "<img src=\"./imagenes/goal-based.png\" width=\"400\">\n",
    "\n"
   ]
  },
  {
   "cell_type": "markdown",
   "metadata": {},
   "source": [
    "## Planeación de rutas\n",
    "\n",
    "Planear una ruta desde la casilla actual hasta una casilla objetivo a la cual se desea ir es un problema muy similar a los que ya hemos encontrado en sesiones pasadas. Debemos definir un ambiente de tarea `Rejilla` y luego usar un algoritmo de búsqueda sobre este.\n",
    "\n",
    "El ambiente se inicializa con una casilla `actual`, una `objetivo` y una lista de casillas `seguras`. Los aspectos más importantes de la definición formal del ambiente de tarea son los siguientes:\n",
    "\n",
    "* **acciones_aplicables**(`casilla`): Las casillas adyacentes a `casilla` que estén incluidas en la lista `seguras`.\n",
    "* **costo**: distancia Manhattan entre las casillas."
   ]
  },
  {
   "cell_type": "markdown",
   "metadata": {},
   "source": [
    "**Ejercicio 3:**\n",
    "\n",
    "Complete la siguiente clase para implementar el ambiente de tarea `Rejilla` y compruebe su código con la siguiente celda."
   ]
  },
  {
   "cell_type": "code",
   "execution_count": null,
   "metadata": {},
   "outputs": [],
   "source": [
    "class Rejilla:\n",
    "    \n",
    "    # Problema del tránsito por la rejilla\n",
    "    # desde donde está el héroe hasta una\n",
    "    # casilla objetivo\n",
    "    \n",
    "    def __init__(self, actual, objetivo, seguras):\n",
    "        pass\n",
    "    \n",
    "    def acciones_aplicables(self, estado):\n",
    "        pass\n",
    "    \n",
    "    def transicion(self, estado, accion):\n",
    "        pass\n",
    "       \n",
    "    def test_objetivo(self, estado):\n",
    "        pass\n",
    "    \n",
    "    def costo(self, estado, accion):\n",
    "        pass\n",
    "    \n",
    "    def codigo(self, estado):\n",
    "        x, y = estado\n",
    "        return f\"{x}-{y}\"\n"
   ]
  },
  {
   "cell_type": "code",
   "execution_count": null,
   "metadata": {},
   "outputs": [],
   "source": [
    "from busqueda import *\n",
    "\n",
    "seguras = [(x, y) for x in range(4) for y in range(4)]\n",
    "R = Rejilla((3,2), (0,0), seguras)\n",
    "camino = best_first_search(R)\n",
    "camino = solucion(camino)\n",
    "print(camino)"
   ]
  },
  {
   "cell_type": "markdown",
   "metadata": {},
   "source": [
    "La respuesta debe ser:\n",
    "\n",
    "```\n",
    "[(2, 2), (1, 2), (1, 1), (0, 1), (0, 0)]\n",
    "```"
   ]
  },
  {
   "cell_type": "markdown",
   "metadata": {},
   "source": [
    "---"
   ]
  },
  {
   "cell_type": "markdown",
   "metadata": {},
   "source": [
    "**Ejercicio 4:**\n",
    "\n",
    "Ahora necesitamos encontrar todas las casillas seguras que conozcamos hasta el momento. Implemente el método `todas_segura` para la clase `Agente` y pruébelo con la siguiente celda."
   ]
  },
  {
   "cell_type": "code",
   "execution_count": null,
   "metadata": {},
   "outputs": [],
   "source": [
    "def todas_seguras(self):\n",
    "    pass\n",
    "\n",
    "setattr(Agente,\"todas_seguras\",todas_seguras)"
   ]
  },
  {
   "cell_type": "code",
   "execution_count": null,
   "metadata": {},
   "outputs": [],
   "source": [
    "W = Wumpus(wumpus=(0,2), oro=(2,3), pozos=[(2,0), (3,2)])\n",
    "formulas = formulas_brisa + formulas_hedor + formulas_segura + formulas_un_wumpus + formulas_hedor_wumpus\n",
    "agente = Agente(W, descriptor=IenCasilla, base_conocimiento=LPQuery(formulas))\n",
    "percept_sentence = agente.make_percept_sentence()\n",
    "agente.base_conocimiento.TELL(percept_sentence)\n",
    "agente.mundo.transicion('voltearIzquierda')\n",
    "agente.mundo.transicion('adelante')\n",
    "percept_sentence = agente.make_percept_sentence()\n",
    "agente.base_conocimiento.TELL(percept_sentence)\n",
    "agente.mundo.transicion('voltearDerecha')\n",
    "agente.mundo.transicion('adelante')\n",
    "percept_sentence = agente.make_percept_sentence()\n",
    "agente.base_conocimiento.TELL(percept_sentence)\n",
    "agente.mundo.transicion('voltearIzquierda')\n",
    "agente.mundo.transicion('adelante')\n",
    "percept_sentence = agente.make_percept_sentence()\n",
    "agente.base_conocimiento.TELL(percept_sentence)\n",
    "print(agente.todas_seguras())"
   ]
  },
  {
   "cell_type": "markdown",
   "metadata": {},
   "source": [
    "La respuesta debe ser:\n",
    "\n",
    "```\n",
    "[(0, 0), (0, 1), (1, 0), (1, 1), (1, 2), (1, 3), (2, 1), (2, 2)]\n",
    "```"
   ]
  },
  {
   "cell_type": "markdown",
   "metadata": {},
   "source": [
    "---"
   ]
  },
  {
   "cell_type": "markdown",
   "metadata": {},
   "source": [
    "# Agente híbrido v. 1.0 <a class=\"anchor\" id=\"hybrid\"></a>\n",
    "\n",
    "Ya estamos listos para incorporar la búsqueda de objetivos, para que el agente vaya a la salida tan pronto encuentre el oro. Las modificaciones más importantes son las siguientes:\n",
    "\n",
    "* Tan pronto toma el oro, el agente planea una ruta segura hasta la salida.\n",
    "* Selecciona una casilla segura en toda la rejilla (no solo aquellas adyacentes), y planea una ruta segura para visitarla.\n",
    "* Si no hay opciones seguras para visitar, planea una ruta segura hasta la salida.\n",
    "\n",
    "El siguiente código implementa estas ideas:"
   ]
  },
  {
   "cell_type": "code",
   "execution_count": null,
   "metadata": {},
   "outputs": [],
   "source": [
    "def programa_goal_based(self):\n",
    "    \n",
    "    global casillas_visitadas\n",
    "    \n",
    "    # Marca la casilla actual como visitada\n",
    "    casilla_actual = self.mundo.heroe\n",
    "    if casilla_actual not in casillas_visitadas:\n",
    "        casillas_visitadas.append(casilla_actual)\n",
    "    \n",
    "    # Actualiza la base de conocimiento con la percepción actual\n",
    "    percept_sentence = self.make_percept_sentence()\n",
    "    self.base_conocimiento.TELL(percept_sentence)\n",
    "        \n",
    "    # Usa base de conocimiento para encontrar casillas seguras\n",
    "    casillas_seguras = self.todas_seguras()\n",
    "\n",
    "    acciones = []\n",
    "    percepcion = self.percibir()\n",
    "    \n",
    "    # Si ve el oro, lo toma y planea un camino hasta la salida\n",
    "    if 'brillo' in percepcion:\n",
    "        print(\"¡Veo el oro!\")\n",
    "        acciones = ['agarrar']\n",
    "        R = Rejilla(casilla_actual, (0,0), casillas_seguras)\n",
    "        camino = best_first_search(R)\n",
    "        camino = [casilla_actual] + solucion(camino)\n",
    "        acciones += acciones_camino(camino, self.mundo.direccion)\n",
    "        \n",
    "    # Si está en la salida y tiene el oro, salir\n",
    "    elif self.mundo.heroe == (0,0) and self.mundo.oro_tomado:\n",
    "        acciones.append('salir')\n",
    "    else:\n",
    "        \n",
    "        # Escoje una casilla segura no visitada para ir\n",
    "        opciones = [casilla for casilla in casillas_seguras if casilla not in casillas_visitadas]\n",
    "        if len(opciones) > 0:\n",
    "#            print(\"Modo exploración...\")\n",
    "#            print(\"Voy a\", casilla)\n",
    "            casilla = choice(opciones)\n",
    "            R = Rejilla(casilla_actual, casilla, casillas_seguras)\n",
    "            camino = best_first_search(R)\n",
    "            camino = [casilla_actual] + solucion(camino)\n",
    "            acciones += acciones_camino(camino, self.mundo.direccion)\n",
    "        \n",
    "        # No hay opciones seguras para visitar, así que planea\n",
    "        # un camino hasta la salida\n",
    "        else:\n",
    "#            print(\"¡Mejor me voy!\")\n",
    "            R = Rejilla(casilla_actual, (0,0), casillas_seguras)\n",
    "            camino = best_first_search(R)\n",
    "            camino = [casilla_actual] + solucion(camino)\n",
    "            acciones += acciones_camino(camino, self.mundo.direccion)            \n",
    "            acciones.append('salir')\n",
    "    return acciones\n",
    "\n",
    "setattr(Agente, \"programa\", programa_goal_based)"
   ]
  },
  {
   "cell_type": "markdown",
   "metadata": {},
   "source": [
    "Verifiquemos el funcionamiento en un par de escenarios:"
   ]
  },
  {
   "cell_type": "code",
   "execution_count": null,
   "metadata": {},
   "outputs": [],
   "source": [
    "from time import sleep\n",
    "from IPython.display import clear_output\n",
    "\n",
    "W = Wumpus(wumpus=(3,3), oro=(3,2), pozos=[(0,3), (2,2)])\n",
    "W.pintar_todo()\n",
    "formulas = formulas_brisa + formulas_hedor + formulas_segura + formulas_un_wumpus + formulas_hedor_wumpus\n",
    "agente = Agente(W, descriptor=IenCasilla, base_conocimiento=LPQuery(formulas))\n",
    "percept_sentence = agente.make_percept_sentence()\n",
    "agente.base_conocimiento.TELL(percept_sentence)\n",
    "casillas_visitadas = []\n",
    "max_turnos = 500\n",
    "acciones = []\n",
    "for t in range(max_turnos):\n",
    "    sleep(.25)\n",
    "    clear_output(wait=True)\n",
    "    if len(acciones) > 0:\n",
    "        accion = acciones.pop(0)\n",
    "    else:\n",
    "        acciones = agente.programa()\n",
    "        accion = acciones.pop(0)\n",
    "    W.transicion(accion)\n",
    "    if not W.juego_activo:\n",
    "        clear_output(wait=True)\n",
    "        print(W.mensaje)\n",
    "        break\n",
    "    W.pintar_todo()\n",
    "    plt.show()"
   ]
  },
  {
   "cell_type": "code",
   "execution_count": null,
   "metadata": {},
   "outputs": [],
   "source": [
    "from time import sleep\n",
    "from IPython.display import clear_output\n",
    "\n",
    "W = Wumpus(wumpus=(0,2), oro=(2,3), pozos=[(2,0), (3,2)])\n",
    "W.pintar_todo()\n",
    "formulas = formulas_brisa + formulas_hedor + formulas_segura + formulas_un_wumpus + formulas_hedor_wumpus\n",
    "agente = Agente(W, descriptor=IenCasilla, base_conocimiento=LPQuery(formulas))\n",
    "percept_sentence = agente.make_percept_sentence()\n",
    "agente.base_conocimiento.TELL(percept_sentence)\n",
    "casillas_visitadas = []\n",
    "max_turnos = 500\n",
    "acciones = []\n",
    "for t in range(max_turnos):\n",
    "    x, y = agente.mundo.heroe\n",
    "    segura = agente.cods.P([x,y,0])\n",
    "    agente.base_conocimiento.TELL(segura)\n",
    "    sleep(.25)\n",
    "    clear_output(wait=True)\n",
    "    if len(acciones) > 0:\n",
    "        accion = acciones.pop(0)\n",
    "    else:\n",
    "        acciones = agente.programa()\n",
    "        accion = acciones.pop(0)\n",
    "    W.transicion(accion)\n",
    "    if not W.juego_activo:\n",
    "        clear_output(wait=True)\n",
    "        print(W.mensaje)\n",
    "        break\n",
    "    W.pintar_todo()\n",
    "    plt.show()"
   ]
  },
  {
   "cell_type": "code",
   "execution_count": null,
   "metadata": {},
   "outputs": [],
   "source": [
    "from time import sleep\n",
    "from IPython.display import clear_output\n",
    "\n",
    "W = Wumpus(wumpus=(0,2), oro=(2,3), pozos=[(2,0), (2,2)])\n",
    "W.pintar_todo()\n",
    "formulas = formulas_brisa + formulas_hedor + formulas_segura + formulas_un_wumpus + formulas_hedor_wumpus\n",
    "agente = Agente(W, descriptor=IenCasilla, base_conocimiento=LPQuery(formulas))\n",
    "percept_sentence = agente.make_percept_sentence()\n",
    "agente.base_conocimiento.TELL(percept_sentence)\n",
    "casillas_visitadas = []\n",
    "max_turnos = 500\n",
    "acciones = []\n",
    "for t in range(max_turnos):\n",
    "    x, y = agente.mundo.heroe\n",
    "    segura = agente.cods.P([x,y,0])\n",
    "    agente.base_conocimiento.TELL(segura)\n",
    "    sleep(.25)\n",
    "    clear_output(wait=True)\n",
    "    if len(acciones) > 0:\n",
    "        accion = acciones.pop(0)\n",
    "    else:\n",
    "        acciones = agente.programa()\n",
    "        accion = acciones.pop(0)\n",
    "    W.transicion(accion)\n",
    "    if not W.juego_activo:\n",
    "        clear_output(wait=True)\n",
    "        print(W.mensaje)\n",
    "        break\n",
    "    W.pintar_todo()\n",
    "    plt.show()"
   ]
  },
  {
   "cell_type": "markdown",
   "metadata": {},
   "source": [
    "Observe que el agente no encuentra por donde pasar, toda vez que los pozos y el Wumpus bloquean el camino hasta el oro. Una manera (poco humanitaria) de continuar la exploración de la caverna consiste en dispararle al Wumpus, de tal manera que se abra una nueva rejilla. Para implementar esto también usaremos lógica proposicional, pero debemos hacer una consideración importante, para incorporar los aspectos variables del mundo."
   ]
  },
  {
   "cell_type": "markdown",
   "metadata": {},
   "source": [
    "# Representando aspectos cambiantes del mundo (fluentes) <a class=\"anchor\" id=\"fluentes\"></a>\n",
    "\n",
    "Hasta este punto la base de conocimiento contiene información sobre las reglas concernientes a los aspectos estáticos del mundo, pero es importante considerar aquellos aspectos cambiantes de este. Por ejemplo, el hecho de que el Wumpus esté vivo o no debe manejarse con cuidado, pues es esencialmente distinto al hecho de que en la casilla haya un pozo o una brisa. Estos últimos hechos no cambian su valor de verdad conforme el héroe interactúa con el entorno. No obstante, el hecho de que el Wumpus esté vivo cambia cuando el agente le acierta con una flecha (pobre Wumpus). Esto genera una dificultad cuando la toma de decisiones se hace mediante la base de conocimiento, como lo consideramos en el presente caso.\n",
    "\n",
    "Observe que para la toma de decisiones es importante la información de que el Wumpus está vivo. Sin embargo, si esta información fuera almacenada como un literal estático, entonces una vez el agente incluya en su base de conocimiento que el Wumpus está vivo, siempre considerará que así es. Pero después de disparar, el mundo cambia y, por tanto, también deberá hacerlo nuestra base de conocimiento.\n",
    "\n",
    "Para solucionar este inconveniente, el hecho de que el Wumpus esté vivo debe representarse mediante un *fluente*. Fluente, del latin *fluens* (fluyendo), es una manera \"fancy\" de referirse a átomos indexados por un índice temporal. \n",
    "\n",
    "## Codificación de fluentes\n",
    "\n",
    "Los fluentes requieren de un índice temporal, lo cual implica que debemos crear una codificación que cruce el índice temporal con la información sobre la cual versa el átomo, sin que esta codificación entre en conflicto con la codificación de los hechos estáticos. Para ello, debemos crear un nuevo descriptor, el cual cruzará solo dos tipos de información: el aspecto del mundo y el turno. Utilizaremos la siguiente codificación de los aspectos del mundo:\n",
    "\n",
    "| Fluente | Número de codificación |\n",
    "| :---: | :---: |\n",
    "| TenerFlecha     | 0 |\n",
    "| Disparar     | 1 |\n",
    "| Gemido     | 2 |\n",
    "| WumpusVivo     | 3 |\n",
    "| Brillo     | 4    |\n",
    "| Agarrar     | 5 |\n",
    "\n",
    "La siguiente es una implementación de este nuevo descriptor:"
   ]
  },
  {
   "cell_type": "code",
   "execution_count": null,
   "metadata": {},
   "outputs": [],
   "source": [
    "fluentes = ['TenerFlecha', 'Disparar', 'Gemido' , 'WumpusVivo', 'Brillo', 'Agarrar']\n",
    "Nfluentes = len(fluentes)\n",
    "max_iteraciones = 500\n",
    "letras_desde = IenCasilla.rango[1] + 1\n",
    "fluente = Descriptor([Nfluentes,max_iteraciones],chrInit=letras_desde)"
   ]
  },
  {
   "cell_type": "markdown",
   "metadata": {},
   "source": [
    "También debemos crearle su propio método de escritura:"
   ]
  },
  {
   "cell_type": "code",
   "execution_count": null,
   "metadata": {},
   "outputs": [],
   "source": [
    "def escribir(self, literal):\n",
    "    if '-' in literal:\n",
    "        atomo = literal[1:]\n",
    "        neg = chr(172)\n",
    "    else:\n",
    "        atomo = literal\n",
    "        neg = ''\n",
    "    x, t = self.inv(atomo)\n",
    "    return f\"{neg}{fluentes[x]}{t}\"\n",
    "\n",
    "from types import MethodType\n",
    "fluente.escribir = MethodType(escribir, fluente)"
   ]
  },
  {
   "cell_type": "code",
   "execution_count": null,
   "metadata": {},
   "outputs": [],
   "source": [
    "f = '-' + fluente.P([5,0])\n",
    "fluente.escribir(f)"
   ]
  },
  {
   "cell_type": "markdown",
   "metadata": {},
   "source": [
    "**Ejercicio 5:**\n",
    "\n",
    "Cree los siguientes fluentes:\n",
    "\n",
    "* El agente tiene la flecha en el turno 0\n",
    "* El agente dispara la flecha en el turno 0\n",
    "* El agente no tiene la flecha en el turno 1\n",
    "\n",
    "La respuesta debe ser:\n",
    "\n",
    "```\n",
    "ő\n",
    "-ŗ\n",
    "Œ\n",
    "```"
   ]
  },
  {
   "cell_type": "markdown",
   "metadata": {},
   "source": [
    "---"
   ]
  },
  {
   "cell_type": "markdown",
   "metadata": {},
   "source": [
    "Para hacernos la vida más fácil a la hora de visualizar una fórmula, vamos a usar la función `regla_en_palabras`, definida a continuación. Observe que si queremos poner en palabras un átomo, usamos más bien la función `en_palabras`."
   ]
  },
  {
   "cell_type": "code",
   "execution_count": null,
   "metadata": {},
   "outputs": [],
   "source": [
    "def regla_en_palabras(regla):\n",
    "    r = ClausulaDefinida(regla)\n",
    "    inicial = True\n",
    "    for l in r.cuerpo:\n",
    "        if inicial:\n",
    "            cu = en_palabras(l)\n",
    "            inicial = False\n",
    "        else:\n",
    "            cu += ' Y ' + en_palabras(l)\n",
    "    return cu + ' > ' + en_palabras(r.cabeza)\n",
    "\n",
    "def en_palabras(literal):\n",
    "    tipo = tipo_atomo(literal)\n",
    "    if tipo == 'Estático':\n",
    "        return IenCasilla.escribir(literal)\n",
    "    elif tipo == 'Fluente':\n",
    "        return fluente.escribir(literal)\n",
    "    \n",
    "def tipo_atomo(literal):\n",
    "    if '-' in literal:\n",
    "        atomo = literal[1:]\n",
    "    else:\n",
    "        atomo = literal\n",
    "    n = ord(atomo)\n",
    "    if n in range(*IenCasilla.rango):\n",
    "        return 'Estático'\n",
    "    elif n in range(*fluente.rango):\n",
    "        return 'Fluente'\n",
    "    \n"
   ]
  },
  {
   "cell_type": "code",
   "execution_count": null,
   "metadata": {},
   "outputs": [],
   "source": [
    "e = '-' + IenCasilla.P([0,0,0])\n",
    "f = '-' + fluente.P([0,0])\n",
    "print('Caracter:', e)\n",
    "print('Tipo de átomo:', tipo_atomo(e))\n",
    "print('Átomo en palabras:', en_palabras(e))\n",
    "print('')\n",
    "print('Caracter:', f)\n",
    "print('Tipo de átomo:', tipo_atomo(f))\n",
    "print('Átomo en palabras:', en_palabras(f))\n",
    "regla = e + '>' + f\n",
    "print('')\n",
    "print(regla_en_palabras(regla))"
   ]
  },
  {
   "cell_type": "markdown",
   "metadata": {},
   "source": [
    "## Axiomas de estado sucesor\n",
    "\n",
    "\n",
    "Para representar el valor de los aspectos que cambian en distintos estados de tiempo usamos fluentes. La manera correcta de controlar el cambio de valor de estos aspectos es mediante axiomas de estado sucesor (*succesor-state axioms*). Estos determinan el valor de un fluente en un tiempo $t+1$ con respecto al valor del fluente en el tiempo $t$ y la ejecución de alguna acción o acciones. Por ejemplo, considere el siguiente fluente:\n",
    "\n",
    "(1) $TenerFlecha_t$ es verdadero sii el agente está en posesión de su flecha en el instante de tiempo $t$.\n",
    "\n",
    "El valor de este fluente en el tiempo $t+1$ depende de su valor en el tiempo $t$ y de si el agente dispara la flecha en el tiempo $t$. De esta manera, podemos escribir el siguiente axioma para controlar el fluente $TenerFlecha$:\n",
    "\n",
    "(2) $\\Bigl(TenerFlecha_t\\wedge\\neg Disparar_t\\Bigr)\\leftrightarrow TenerFlecha_{t+1}$\n",
    "\n",
    "Observe que la fórmula (2) no hace parte del fragmento de lógica proposicional que estamos considerando. En consecuencia, debemos cambiarla por varias reglas que en conjunto sean equivalentes. En este caso, (2) es equivalente a tener (3), (4) y (5):\n",
    "\n",
    "(3) $TenerFlecha_t\\wedge\\neg Disparar_t\\to TenerFlecha_{t+1}$\n",
    "\n",
    "(4) $\\neg TenerFlecha_t\\to \\neg TenerFlecha_{t+1}$\n",
    "\n",
    "(5) $Disparar_t\\to \\neg TenerFlecha_{t+1}$\n",
    "\n"
   ]
  },
  {
   "cell_type": "markdown",
   "metadata": {},
   "source": [
    "**Ejercicio 6:**\n",
    "\n",
    "Implemente una función que, dado un tiempo `t`, genere todos los axiomas de estado sucesor para el fluente $TenerFlecha_t$. Compruebe su código con la siguiente celda."
   ]
  },
  {
   "cell_type": "code",
   "execution_count": null,
   "metadata": {},
   "outputs": [],
   "source": [
    "def axiomas_TenerFlecha(t):\n",
    "    pass"
   ]
  },
  {
   "cell_type": "code",
   "execution_count": null,
   "metadata": {},
   "outputs": [],
   "source": [
    "ax_f = axiomas_TenerFlecha(0)\n",
    "for r in ax_f:\n",
    "    print(regla_en_palabras(r))"
   ]
  },
  {
   "cell_type": "markdown",
   "metadata": {},
   "source": [
    "La respuesta debe ser:\n",
    "\n",
    "```\n",
    "TenerFlecha0 Y ¬Disparar0 > TenerFlecha1\n",
    "¬TenerFlecha0 > ¬TenerFlecha1\n",
    "Disparar0 > ¬TenerFlecha1\n",
    "```"
   ]
  },
  {
   "cell_type": "markdown",
   "metadata": {},
   "source": [
    "**Ejercicio 7:**\n",
    "\n",
    "Implemente una función que, dado un tiempo $t$, genere el axioma de estado sucesor correspondiente a (1). Observe que lo que debe implementar son las reglas en (2), (3) y (4).\n",
    "\n",
    "\n",
    "(1) $\\Bigl(WumpusVivo_t\\wedge\\neg Gemido_t\\Bigr)\\leftrightarrow WumpusVivo_{t+1}$\n",
    "\n",
    "(2) $WumpusVivo_t\\wedge\\neg Gemido_t\\to WumpusVivo_{t+1}$\n",
    "\n",
    "(3) $\\neg WumpusVivo_\\to \\neg WumpusVivo_{t+1}$\n",
    "\n",
    "(4) $Gemido_t\\to \\neg WumpusVivo_{t+1}$"
   ]
  },
  {
   "cell_type": "markdown",
   "metadata": {},
   "source": [
    "**Ejercicio 8:**\n",
    "\n",
    "Considere el axioma de estado sucesor (1), correspondiente al fluente $Brillo$:\n",
    "\n",
    "(1) $Brillo_{t+1} \\leftrightarrow \\Bigl(Brillo_t \\wedge \\neg Agarrar_t \\Bigr)$\n",
    "\n",
    "* Escriba las reglas correspondientes a (1).\n",
    "* Implemente una función que, dado un tiempo $t$, genere las reglas correspondientes al axioma de estado sucesor correspondiente a (1).\n"
   ]
  },
  {
   "cell_type": "markdown",
   "metadata": {},
   "source": [
    "**Ejercicio 9:**\n",
    "\n",
    "Crear un plan para asesinar al Wumpus cuando se sabe su ubicación y está vivo y se tiene flecha."
   ]
  },
  {
   "cell_type": "markdown",
   "metadata": {},
   "source": [
    "**Ejercicio 10:**\n",
    "\n",
    "Modifique el programa de agente para nunca usar percepciones (lo único que se debe usar es el método `make_percept_sentence`). Observe que debe crear una función que cree los átomos correspondientes a las acciones relevantes, para poder llevar un registro de los fluentes en la base de conocimiento."
   ]
  },
  {
   "cell_type": "markdown",
   "metadata": {},
   "source": [
    "---"
   ]
  },
  {
   "cell_type": "markdown",
   "metadata": {},
   "source": [
    "### En este notebook usted aprendió\n",
    "\n",
    "* Encontrar las casillas seguras para transitar.\n",
    "* Diseñar un plan para ir de la casilla actual a una casilla objetivo.\n",
    "* Fluentes y el aspecto dinámico del mundo.\n",
    "* Toma de decisiones y planeación para superar el mundo del Wumpus."
   ]
  }
 ],
 "metadata": {
  "colab": {
   "name": "arboles_busqueda.ipynb",
   "provenance": []
  },
  "kernelspec": {
   "display_name": "Python 3",
   "language": "python",
   "name": "python3"
  },
  "language_info": {
   "codemirror_mode": {
    "name": "ipython",
    "version": 3
   },
   "file_extension": ".py",
   "mimetype": "text/x-python",
   "name": "python",
   "nbconvert_exporter": "python",
   "pygments_lexer": "ipython3",
   "version": "3.8.10"
  }
 },
 "nbformat": 4,
 "nbformat_minor": 4
}
