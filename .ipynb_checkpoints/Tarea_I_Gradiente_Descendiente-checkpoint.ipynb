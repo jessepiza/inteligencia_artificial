{
 "cells": [
  {
   "cell_type": "markdown",
   "metadata": {},
   "source": [
    "## TAREA I: Gradiente Descendiente\n",
    "\n",
    "**_Jessenia Piza Londoño_**\n",
    "\n",
    "Para la siguiente clase realicé, de forma individual, una implementación en python del algoritmo de gradiente descendiente. Esta implementación debe solucionar el problema de regresión que se trabajo en clase. Se debe tener en cuenta lo siguiente:\n",
    "\n",
    "1. Debe realizar la implementación en un notebook de jupyter.\n",
    "2. La implementación debe ser interactiva. Es decir yo deberia poder modificar la taza de aprendizaje por medio de un elemento de interacción, para esto estudie la libreria _ipywidgets_.\n",
    "3. Se debe hacer una grafica de la función de costo a medida que ese actualizan los parámetros, de tal forma que ese pueda observar a medida qu elos parámetros cambia como cambia la función de costo.\n",
    "4. Realicé la implementación para que funcione también para regresión múltiple."
   ]
  },
  {
   "cell_type": "code",
   "execution_count": 1,
   "metadata": {},
   "outputs": [],
   "source": [
    "import pandas as pd\n",
    "import numpy as np\n",
    "import ipywidgets as widgets\n",
    "import matplotlib.pyplot as plt\n",
    "from IPython.display import display, Latex\n",
    "\n",
    "import ipywidgets as widgets\n",
    "from ipywidgets import interact\n",
    "\n",
    "%matplotlib inline"
   ]
  },
  {
   "cell_type": "markdown",
   "metadata": {},
   "source": [
    "Creamos la función de costo que está dada por:\n",
    "$$\\frac{\\partial}{\\partial\\theta_j}J(\\theta_0,\\theta_1) = \\frac{\\partial}{\\partial\\theta_j}\\frac{1}{2m}\\sum_{i=1}^{m}\\left[h_\\theta(x^{(i)})-y^{(i)}\\right]^2,$$\n"
   ]
  },
  {
   "cell_type": "code",
   "execution_count": 2,
   "metadata": {},
   "outputs": [],
   "source": [
    "def cost_function(X,y, theta):\n",
    "    '''\n",
    "        INPUT:\n",
    "            x: Variables independientes\n",
    "            y: Variables dependientes\n",
    "            theta: Parameters\n",
    "        OUTPUT:\n",
    "            cost: Cost of parameter       \n",
    "    '''    \n",
    "    m = len(X)\n",
    "    h_theta = np.dot(X, theta)\n",
    "    cost = (1/(2*m))*np.sum(np.square(h_theta-y))\n",
    "    return cost    "
   ]
  },
  {
   "cell_type": "markdown",
   "metadata": {},
   "source": [
    "Teniendo en cuenta que $\\mathbf{h_\\theta(x)}= \\mathbf{\\theta}^{T}\\mathbf{x}$, que $\\theta_j := \\theta_j-\\alpha \\frac{\\partial}{\\partial\\theta_j}J(\\boldsymbol{\\theta}) $ y que las derivadas respectivas son:\n",
    "\n",
    "$$ \\begin{equation}\n",
    "   \\begin{split}\n",
    "      \\theta_0 &=& \\frac{1}{m}\\sum_{i=1}^{m}\\left[h_\\theta(x^{(i)})-y^{(i)}\\right]x_0^{(i)}\\\\\n",
    "      \\theta_1 &=& \\frac{1}{m}\\sum_{i=1}^{m}\\left[h_\\theta(x^{(i)})-y^{(i)}\\right]x_1^{(i)}\\\\\n",
    "      & & \\vdots\\\\\n",
    "      \\theta_n &=& \\frac{1}{m}\\sum_{i=1}^{m}\\left[h_\\theta(x^{(i)})-y^{(i)}\\right]x_n^{(i)}\\\\\n",
    "   \\end{split}\n",
    "   \\end{equation}$$\n",
    "   \n",
    "Donde $x_0^{(i)}= 1$ para todo $i$.\n",
    "\n",
    "Creamos la función de gradiente descendiente para la regresión lineal multivariable."
   ]
  },
  {
   "cell_type": "code",
   "execution_count": 3,
   "metadata": {},
   "outputs": [],
   "source": [
    "def gradient_descent(x, y, theta, learning_rate, steps):\n",
    "    '''\n",
    "        INPUT:\n",
    "            x: Variables independientes\n",
    "            y: Variables dependientes\n",
    "            theta: Parameters\n",
    "            learning_rate: rate of learning\n",
    "            steps: Numbers of iterations that the algorithm have to do\n",
    "        OUTPUT:\n",
    "            theta: Estimated parameters \n",
    "            cost_vec: Vector of cost which is updated with the parameters\n",
    "            theta_matrix: Vector with the parameters updates        \n",
    "    '''\n",
    "    ones = np.ones((len(x),1))\n",
    "    X = np.column_stack((x, ones))\n",
    "    m = len(X)\n",
    "    cost_vec = []\n",
    "    for q in range(steps):\n",
    "        h_theta = np.dot(X, theta)\n",
    "        theta_gradient = X.T.dot(h_theta - y)/m\n",
    "        theta = theta - learning_rate*theta_gradient\n",
    "        cost_vec.append(cost_function(X,y,theta))\n",
    "    fig,ax = plt.subplots(figsize=(8,6))\n",
    "    ax.set_title(\"Cost\")\n",
    "    ax.set_ylabel(r'J($\\theta$)')\n",
    "    ax.set_xlabel('Iterations')\n",
    "    ax.plot(range(steps),cost_vec)\n",
    "    return theta, cost_vec"
   ]
  },
  {
   "cell_type": "markdown",
   "metadata": {},
   "source": [
    "Para probar la función antes creada, procedemos a realizar el ejercicio hecho en clase:"
   ]
  },
  {
   "cell_type": "code",
   "execution_count": 4,
   "metadata": {},
   "outputs": [],
   "source": [
    "data = pd.read_excel('Real estate valuation data set.xlsx') # data\n",
    "ones = np.ones((len(data),1)) # vector of ones\n",
    "x = data['X2 house age'] # Independent Variable\n",
    "y = data['Y house price of unit area'] # Dependent Variable"
   ]
  },
  {
   "cell_type": "markdown",
   "metadata": {},
   "source": [
    "Creamos una función para la interacción. De esta manera, el usuario puede cambiar parámetros de la taza de aprendizaje, las iteraciones a realizar, el grado de la variable para lograr una regresión multivariable y la variable dependiente a evaluar en el problema."
   ]
  },
  {
   "cell_type": "code",
   "execution_count": 5,
   "metadata": {},
   "outputs": [],
   "source": [
    "def interaction_gradient(alpha=0.002, steps=5000, mult_grade=1, column_variable = 'X2 house age'):\n",
    "    '''\n",
    "        INPUT:\n",
    "            alpha: Learning rate\n",
    "            steps: Number of iterations\n",
    "            mult_grade: Grade of multivarible gradient\n",
    "            column_variable: Variable independent to do multivariable gradient\n",
    "    '''\n",
    "    theta = np.random.randn(mult_grade+1)\n",
    "    Xtemp = data[column_variable]\n",
    "    X = data[column_variable]\n",
    "    for i in range(2, mult_grade + 1):\n",
    "        X = np.column_stack((X, Xtemp**i))\n",
    "    theta,cost_vec = gradient_descent(X,y,theta,alpha,steps)\n",
    "    for i in range(len(theta)):       \n",
    "        display(Latex(f'$\\\\theta_{i}:$ {theta[i]}'))"
   ]
  },
  {
   "cell_type": "markdown",
   "metadata": {},
   "source": [
    "Para el problema realizado en clase basta con poner en column_variable = _'X2 house age'_ con mult_grade = 1. Además, con la interacción se logra evidenciar los thetas respectivos. Para verificar el problema multivariado se recomienda usar la variable _'X4 number of convenience stores'_ con más o menos $10^{-6}$ de taza de aprendizaje."
   ]
  },
  {
   "cell_type": "code",
   "execution_count": 6,
   "metadata": {
    "scrolled": false
   },
   "outputs": [
    {
     "data": {
      "application/vnd.jupyter.widget-view+json": {
       "model_id": "5ba61574f305430da50a68f61b3bf0ce",
       "version_major": 2,
       "version_minor": 0
      },
      "text/plain": [
       "interactive(children=(FloatSlider(value=0.002, description='alpha', max=0.01, step=0.001), IntSlider(value=500…"
      ]
     },
     "metadata": {},
     "output_type": "display_data"
    },
    {
     "data": {
      "text/plain": [
       "<function __main__.interaction_gradient(alpha=0.002, steps=5000, mult_grade=1, column_variable='X2 house age')>"
      ]
     },
     "execution_count": 6,
     "metadata": {},
     "output_type": "execute_result"
    }
   ],
   "source": [
    "interact(interaction_gradient,alpha=(0,0.01,0.001),steps=(0,10000,500), mult_grade=(0,5,1), column_variable = [column for column in data.columns[1:len(data.columns)-1,]])"
   ]
  }
 ],
 "metadata": {
  "kernelspec": {
   "display_name": "Python 3",
   "language": "python",
   "name": "python3"
  },
  "language_info": {
   "codemirror_mode": {
    "name": "ipython",
    "version": 3
   },
   "file_extension": ".py",
   "mimetype": "text/x-python",
   "name": "python",
   "nbconvert_exporter": "python",
   "pygments_lexer": "ipython3",
   "version": "3.7.9"
  }
 },
 "nbformat": 4,
 "nbformat_minor": 4
}
